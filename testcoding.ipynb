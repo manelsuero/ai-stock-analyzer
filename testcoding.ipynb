{
 "cells": [
  {
   "cell_type": "code",
   "execution_count": 3,
   "id": "1c64fc75-1905-4e1b-9849-7cc6b94c5634",
   "metadata": {},
   "outputs": [
    {
     "name": "stdout",
     "output_type": "stream",
     "text": [
      "Requirement already satisfied: yfinance in c:\\users\\nelit\\anaconda3\\lib\\site-packages (0.2.54)\n",
      "Requirement already satisfied: pandas in c:\\users\\nelit\\anaconda3\\lib\\site-packages (2.2.2)\n",
      "Collecting pandas_ta\n",
      "  Downloading pandas_ta-0.3.14b.tar.gz (115 kB)\n",
      "     ---------------------------------------- 0.0/115.1 kB ? eta -:--:--\n",
      "     --- ------------------------------------ 10.2/115.1 kB ? eta -:--:--\n",
      "     ------------- ----------------------- 41.0/115.1 kB 487.6 kB/s eta 0:00:01\n",
      "     ------------------------------------ 115.1/115.1 kB 838.8 kB/s eta 0:00:00\n",
      "  Preparing metadata (setup.py): started\n",
      "  Preparing metadata (setup.py): finished with status 'done'\n",
      "Requirement already satisfied: matplotlib in c:\\users\\nelit\\anaconda3\\lib\\site-packages (3.8.4)\n",
      "Requirement already satisfied: numpy>=1.16.5 in c:\\users\\nelit\\anaconda3\\lib\\site-packages (from yfinance) (1.26.4)\n",
      "Requirement already satisfied: requests>=2.31 in c:\\users\\nelit\\anaconda3\\lib\\site-packages (from yfinance) (2.32.2)\n",
      "Requirement already satisfied: multitasking>=0.0.7 in c:\\users\\nelit\\anaconda3\\lib\\site-packages (from yfinance) (0.0.11)\n",
      "Requirement already satisfied: platformdirs>=2.0.0 in c:\\users\\nelit\\anaconda3\\lib\\site-packages (from yfinance) (3.10.0)\n",
      "Requirement already satisfied: pytz>=2022.5 in c:\\users\\nelit\\anaconda3\\lib\\site-packages (from yfinance) (2024.1)\n",
      "Requirement already satisfied: frozendict>=2.3.4 in c:\\users\\nelit\\anaconda3\\lib\\site-packages (from yfinance) (2.4.2)\n",
      "Requirement already satisfied: peewee>=3.16.2 in c:\\users\\nelit\\anaconda3\\lib\\site-packages (from yfinance) (3.17.9)\n",
      "Requirement already satisfied: beautifulsoup4>=4.11.1 in c:\\users\\nelit\\anaconda3\\lib\\site-packages (from yfinance) (4.12.3)\n",
      "Requirement already satisfied: python-dateutil>=2.8.2 in c:\\users\\nelit\\anaconda3\\lib\\site-packages (from pandas) (2.9.0.post0)\n",
      "Requirement already satisfied: tzdata>=2022.7 in c:\\users\\nelit\\anaconda3\\lib\\site-packages (from pandas) (2023.3)\n",
      "Requirement already satisfied: contourpy>=1.0.1 in c:\\users\\nelit\\anaconda3\\lib\\site-packages (from matplotlib) (1.2.0)\n",
      "Requirement already satisfied: cycler>=0.10 in c:\\users\\nelit\\anaconda3\\lib\\site-packages (from matplotlib) (0.11.0)\n",
      "Requirement already satisfied: fonttools>=4.22.0 in c:\\users\\nelit\\anaconda3\\lib\\site-packages (from matplotlib) (4.51.0)\n",
      "Requirement already satisfied: kiwisolver>=1.3.1 in c:\\users\\nelit\\anaconda3\\lib\\site-packages (from matplotlib) (1.4.4)\n",
      "Requirement already satisfied: packaging>=20.0 in c:\\users\\nelit\\anaconda3\\lib\\site-packages (from matplotlib) (23.2)\n",
      "Requirement already satisfied: pillow>=8 in c:\\users\\nelit\\anaconda3\\lib\\site-packages (from matplotlib) (10.3.0)\n",
      "Requirement already satisfied: pyparsing>=2.3.1 in c:\\users\\nelit\\anaconda3\\lib\\site-packages (from matplotlib) (3.0.9)\n",
      "Requirement already satisfied: soupsieve>1.2 in c:\\users\\nelit\\anaconda3\\lib\\site-packages (from beautifulsoup4>=4.11.1->yfinance) (2.5)\n",
      "Requirement already satisfied: six>=1.5 in c:\\users\\nelit\\anaconda3\\lib\\site-packages (from python-dateutil>=2.8.2->pandas) (1.16.0)\n",
      "Requirement already satisfied: charset-normalizer<4,>=2 in c:\\users\\nelit\\anaconda3\\lib\\site-packages (from requests>=2.31->yfinance) (2.0.4)\n",
      "Requirement already satisfied: idna<4,>=2.5 in c:\\users\\nelit\\anaconda3\\lib\\site-packages (from requests>=2.31->yfinance) (3.7)\n",
      "Requirement already satisfied: urllib3<3,>=1.21.1 in c:\\users\\nelit\\anaconda3\\lib\\site-packages (from requests>=2.31->yfinance) (2.2.2)\n",
      "Requirement already satisfied: certifi>=2017.4.17 in c:\\users\\nelit\\anaconda3\\lib\\site-packages (from requests>=2.31->yfinance) (2024.8.30)\n",
      "Building wheels for collected packages: pandas_ta\n",
      "  Building wheel for pandas_ta (setup.py): started\n",
      "  Building wheel for pandas_ta (setup.py): finished with status 'done'\n",
      "  Created wheel for pandas_ta: filename=pandas_ta-0.3.14b0-py3-none-any.whl size=218928 sha256=3f252e13fe018352f6b042eb00228ff47f79dd4b6b66cb38445f69aae9bf1867\n",
      "  Stored in directory: c:\\users\\nelit\\appdata\\local\\pip\\cache\\wheels\\fd\\ed\\18\\2a12fd1b7906c63efca6accb351929f2c7f6bbc674e1c0ba5d\n",
      "Successfully built pandas_ta\n",
      "Installing collected packages: pandas_ta\n",
      "Successfully installed pandas_ta-0.3.14b0\n",
      "Note: you may need to restart the kernel to use updated packages.\n"
     ]
    }
   ],
   "source": [
    "pip install yfinance pandas pandas_ta matplotlib"
   ]
  },
  {
   "cell_type": "code",
   "execution_count": 6,
   "id": "f766c1d6-8c52-4388-8dc0-fabc96545565",
   "metadata": {},
   "outputs": [
    {
     "name": "stderr",
     "output_type": "stream",
     "text": [
      "2025-05-16 15:58:53.697 \n",
      "  \u001b[33m\u001b[1mWarning:\u001b[0m to view this Streamlit app on a browser, run it with the following\n",
      "  command:\n",
      "\n",
      "    streamlit run C:\\Users\\nelit\\anaconda3\\Lib\\site-packages\\ipykernel_launcher.py [ARGUMENTS]\n",
      "2025-05-16 15:58:53.697 Session state does not function when running a script without `streamlit run`\n"
     ]
    }
   ],
   "source": [
    "import yfinance as yf\n",
    "import pandas as pd\n",
    "import numpy as np\n",
    "import matplotlib.pyplot as plt\n",
    "\n",
    "\n",
    "import streamlit as st\n",
    "import yfinance as yf\n",
    "import pandas as pd\n",
    "import numpy as np\n",
    "import matplotlib.pyplot as plt\n",
    "\n",
    "st.set_page_config(page_title=\"AI Stock Analyzer\", layout=\"wide\")\n",
    "st.title(\"📈 Stock Analyzer with AI\")\n",
    "\n",
    "# Sidebar\n",
    "st.sidebar.header(\"Options\")\n",
    "ticker = st.sidebar.text_input(\"Enter a stock ticker\", value=\"AAPL\")\n",
    "start_date = st.sidebar.date_input(\"Start Date\")\n",
    "end_date   = st.sidebar.date_input(\"End Date\")\n",
    "\n",
    "# ──────────────────────────────────────────────\n",
    "# Cuando el usuario hace click en Analyze:\n",
    "if st.sidebar.button(\"🔍 Analyze Stock\"):\n",
    "\n",
    "    # ─── Aquí va TU CÓDIGO DE ANÁLISIS TÉCNICO ─────────\n",
    "    # ↓ Borra estas dos líneas de placeholder:\n",
    "    st.header(\"🔍 Technical Analysis\")\n",
    "    st.write(\"Cargando indicadores...\")\n",
    "\n",
    "    # ←←← Pega aquí todo el bloque de cálculo y gráficos que te pasé.\n",
    "    # Empieza por el `st.header(\"🔍 Technical Analysis & Fundamentals\")`\n",
    "    # y termina tras el último `st.line_chart(data['ADX'])`.\n",
    "\n",
    "    # ──────────────────────────────────────────────\n",
    "\n",
    "    # Después de este bloque vendrán las secciones de sentimiento,\n",
    "    # noticias y resumen AI, pero por ahora déjalas tal cual\n",
    "    # para no mezclar.\n",
    "\n",
    "else:\n",
    "    st.info(\"👈 Enter a stock ticker and click 'Analyze Stock' to begin.\")\n"
   ]
  },
  {
   "cell_type": "code",
   "execution_count": null,
   "id": "43c97c42-44d7-4d76-9fde-160a229d3cf0",
   "metadata": {},
   "outputs": [],
   "source": []
  }
 ],
 "metadata": {
  "kernelspec": {
   "display_name": "Python 3 (ipykernel)",
   "language": "python",
   "name": "python3"
  },
  "language_info": {
   "codemirror_mode": {
    "name": "ipython",
    "version": 3
   },
   "file_extension": ".py",
   "mimetype": "text/x-python",
   "name": "python",
   "nbconvert_exporter": "python",
   "pygments_lexer": "ipython3",
   "version": "3.12.4"
  }
 },
 "nbformat": 4,
 "nbformat_minor": 5
}
